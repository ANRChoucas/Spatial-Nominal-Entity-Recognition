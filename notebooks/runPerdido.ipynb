{
 "cells": [
  {
   "attachments": {},
   "cell_type": "markdown",
   "metadata": {},
   "source": [
    "# Run Perdido"
   ]
  },
  {
   "cell_type": "code",
   "execution_count": 27,
   "metadata": {},
   "outputs": [],
   "source": [
    "import os\n",
    "from perdido.geoparser import Geoparser\n",
    "from tqdm import tqdm\n",
    "from lxml import etree\n",
    "\n",
    "import warnings\n",
    "warnings.filterwarnings('ignore')"
   ]
  },
  {
   "cell_type": "code",
   "execution_count": null,
   "metadata": {},
   "outputs": [],
   "source": [
    "path = '/Users/lmoncla/Documents/Data/Corpus/Visorando/txt'"
   ]
  },
  {
   "cell_type": "code",
   "execution_count": 16,
   "metadata": {},
   "outputs": [],
   "source": [
    "path ='/Users/lmoncla/Documents/Data/Corpus/Choucas'\n",
    "output_path = os.path.join(path ,'Perdido')"
   ]
  },
  {
   "cell_type": "code",
   "execution_count": 31,
   "metadata": {},
   "outputs": [],
   "source": [
    "def text_preprocessing(text):\n",
    "    text = text.replace(' ', ' ')\n",
    "    text = text.replace('œ', 'oe')\n",
    "    return text.replace('\\n', ' ').strip()\n",
    "\n",
    "def run_perdido(text, output_dir, filename, geoparser):\n",
    "    try :\n",
    "        doc = geoparser(text_preprocessing(text))\n",
    "    except etree.XMLSyntaxError as e:\n",
    "        return None\n",
    "    \n",
    "    try:\n",
    "        os.mkdir(os.path.join(output_dir, filename))\n",
    "    except OSError:\n",
    "        pass\n",
    "    try:\n",
    "        doc.to_xml(os.path.join(output_dir, filename, filename + '.xml'))\n",
    "        #doc.to_iob(os.path.join(output_dir, 'T'+str(volume), filepath_name + '.tsv'))\n",
    "\n",
    "        iob = 'n\\tform\\tlemma\\tpos\\ttype\\n'\n",
    "        for token in doc:\n",
    "                iob += token.tsv_format() + '\\n'\n",
    "\n",
    "        with open(os.path.join(output_dir, filename, filename + '.tsv'), 'w') as f:\n",
    "            f.write(iob)\n",
    "\n",
    "        doc.to_html(os.path.join(output_dir, filename, filename + '_ent.html'), 'ent')\n",
    "        doc.to_html(os.path.join(output_dir, filename, filename + '_span.html'), 'span')\n",
    "    except FileNotFoundError as e:\n",
    "        print('Error', filename)\n",
    "        print(e)\n",
    "\n",
    "    return len(doc.ne_place), len(doc.ne_person)\n"
   ]
  },
  {
   "cell_type": "code",
   "execution_count": 32,
   "metadata": {},
   "outputs": [],
   "source": [
    "geoparser = Geoparser(version='Encyclopedie', sources=['wiki_gaz'])"
   ]
  },
  {
   "cell_type": "code",
   "execution_count": 33,
   "metadata": {},
   "outputs": [
    {
     "name": "stderr",
     "output_type": "stream",
     "text": [
      "100%|██████████| 100/100 [34:37<00:00, 20.77s/it]\n"
     ]
    }
   ],
   "source": [
    "for doc in tqdm(sorted(os.listdir(path))):\n",
    "    try:\n",
    "        num = int(doc.split('_')[-1])\n",
    "        #print(num)\n",
    "        filename = 'FichierNettoye_' + str(num)\n",
    "        if os.path.exists(os.path.join(output_path, filename, filename + '.xml')):\n",
    "            continue\n",
    "\n",
    "        with open(os.path.join(path, doc, filename), 'r') as f:\n",
    "            text = f.read()\n",
    "\n",
    "            run_perdido(text, output_path, filename, geoparser)\n",
    "\n",
    "    except ValueError:\n",
    "        pass"
   ]
  },
  {
   "cell_type": "code",
   "execution_count": null,
   "metadata": {},
   "outputs": [],
   "source": []
  },
  {
   "cell_type": "code",
   "execution_count": null,
   "metadata": {},
   "outputs": [],
   "source": []
  },
  {
   "cell_type": "code",
   "execution_count": null,
   "metadata": {},
   "outputs": [],
   "source": []
  },
  {
   "cell_type": "code",
   "execution_count": null,
   "metadata": {},
   "outputs": [],
   "source": []
  }
 ],
 "metadata": {
  "kernelspec": {
   "display_name": "Python 3",
   "language": "python",
   "name": "python3"
  },
  "language_info": {
   "codemirror_mode": {
    "name": "ipython",
    "version": 3
   },
   "file_extension": ".py",
   "mimetype": "text/x-python",
   "name": "python",
   "nbconvert_exporter": "python",
   "pygments_lexer": "ipython3",
   "version": "3.9.16"
  }
 },
 "nbformat": 4,
 "nbformat_minor": 2
}
