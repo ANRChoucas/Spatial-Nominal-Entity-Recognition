{
 "cells": [
  {
   "attachments": {},
   "cell_type": "markdown",
   "metadata": {},
   "source": [
    "# Run Perdido"
   ]
  },
  {
   "cell_type": "code",
   "execution_count": 4,
   "metadata": {},
   "outputs": [],
   "source": [
    "import os\n",
    "from perdido.geoparser import Geoparser\n",
    "from tqdm import tqdm\n",
    "from lxml import etree\n",
    "\n",
    "import warnings\n",
    "warnings.filterwarnings('ignore')"
   ]
  },
  {
   "cell_type": "code",
   "execution_count": 5,
   "metadata": {},
   "outputs": [],
   "source": [
    "path ='/Users/lmoncla/Documents/Data/Corpus/Choucas'\n",
    "output_path = os.path.join(path ,'Perdido')"
   ]
  },
  {
   "cell_type": "code",
   "execution_count": 6,
   "metadata": {},
   "outputs": [],
   "source": [
    "def text_preprocessing(text):\n",
    "    text = text.replace(' ', ' ')\n",
    "    text = text.replace('œ', 'oe')\n",
    "    return text.replace('\\n', ' ').strip()\n",
    "\n",
    "def run_perdido(text, output_dir, filename, geoparser):\n",
    "    try :\n",
    "        doc = geoparser(text_preprocessing(text))\n",
    "    except etree.XMLSyntaxError as e:\n",
    "        return None\n",
    "    \n",
    "    try:\n",
    "        os.mkdir(os.path.join(output_dir, filename))\n",
    "    except OSError:\n",
    "        pass\n",
    "    try:\n",
    "        doc.to_xml(os.path.join(output_dir, filename, filename + '.xml'))\n",
    "        #doc.to_iob(os.path.join(output_dir, 'T'+str(volume), filepath_name + '.tsv'))\n",
    "\n",
    "        iob = 'n\\tform\\tlemma\\tpos\\ttype\\n'\n",
    "        for token in doc:\n",
    "                iob += token.tsv_format() + '\\n'\n",
    "\n",
    "        with open(os.path.join(output_dir, filename, filename + '.tsv'), 'w') as f:\n",
    "            f.write(iob)\n",
    "\n",
    "        doc.to_html(os.path.join(output_dir, filename, filename + '_ent.html'), 'ent')\n",
    "        doc.to_html(os.path.join(output_dir, filename, filename + '_span.html'), 'span')\n",
    "    except FileNotFoundError as e:\n",
    "        print('Error', filename)\n",
    "        print(e)\n",
    "\n",
    "    return len(doc.ne_place), len(doc.ne_person)\n"
   ]
  },
  {
   "cell_type": "code",
   "execution_count": 7,
   "metadata": {},
   "outputs": [],
   "source": [
    "geoparser = Geoparser(version='Standard', sources=['wiki_gaz'])"
   ]
  },
  {
   "cell_type": "code",
   "execution_count": 9,
   "metadata": {},
   "outputs": [
    {
     "name": "stderr",
     "output_type": "stream",
     "text": [
      "100%|██████████| 102/102 [57:11<00:00, 33.64s/it] \n"
     ]
    }
   ],
   "source": [
    "for doc in tqdm(sorted(os.listdir(path))):\n",
    "    try:\n",
    "        num = int(doc.split('_')[-1])\n",
    "        #print(num)\n",
    "        filename = 'FichierNettoye_' + str(num)\n",
    "        if os.path.exists(os.path.join(output_path, filename, filename + '.xml')):\n",
    "            continue\n",
    "\n",
    "        with open(os.path.join(path, doc, filename), 'r') as f:\n",
    "            text = f.read()\n",
    "\n",
    "            run_perdido(text, output_path, filename, geoparser)\n",
    "    except ValueError:\n",
    "        pass"
   ]
  },
  {
   "cell_type": "code",
   "execution_count": null,
   "metadata": {},
   "outputs": [],
   "source": []
  },
  {
   "cell_type": "code",
   "execution_count": 10,
   "metadata": {},
   "outputs": [],
   "source": [
    "path = '/Users/lmoncla/Documents/Data/Corpus/Visorando/txt'\n",
    "output_path = '/Users/lmoncla/Documents/Data/Corpus/Visorando/Perdido'"
   ]
  },
  {
   "cell_type": "code",
   "execution_count": 11,
   "metadata": {},
   "outputs": [],
   "source": [
    "\n",
    "def run_perdido2(text, output_dir, filename, geoparser):\n",
    "    try :\n",
    "        doc = geoparser(text_preprocessing(text))\n",
    "    except etree.XMLSyntaxError as e:\n",
    "        return None\n",
    "    try:\n",
    "        doc.to_xml(os.path.join(output_dir, filename + '.xml'))\n",
    "    except FileNotFoundError as e:\n",
    "        print('Error', filename)\n",
    "        print(e)\n",
    "\n",
    "    return len(doc.ne_place), len(doc.ne_person)"
   ]
  },
  {
   "cell_type": "code",
   "execution_count": 12,
   "metadata": {},
   "outputs": [
    {
     "name": "stderr",
     "output_type": "stream",
     "text": [
      " 89%|████████▉ | 1369/1540 [02:50<00:52,  3.23it/s]"
     ]
    },
    {
     "name": "stdout",
     "output_type": "stream",
     "text": [
      "The content parameter should not be empty!\n",
      "saint_vincent_sur_oust\n"
     ]
    },
    {
     "name": "stderr",
     "output_type": "stream",
     "text": [
      " 93%|█████████▎| 1429/1540 [17:49<10:54,  5.90s/it]"
     ]
    },
    {
     "name": "stdout",
     "output_type": "stream",
     "text": [
      "The content parameter should not be empty!\n",
      "tmb_2011\n",
      "The content parameter should not be empty!\n",
      "totalite_de_la_boucle_correncon_ambel\n",
      "The content parameter should not be empty!\n",
      "tour_autour_de_bouvante_le_haut\n"
     ]
    },
    {
     "name": "stderr",
     "output_type": "stream",
     "text": [
      " 94%|█████████▍| 1453/1540 [23:23<11:05,  7.64s/it]"
     ]
    },
    {
     "name": "stdout",
     "output_type": "stream",
     "text": [
      "The content parameter should not be empty!\n",
      "tour_des_lacs_massif_des_aiguilles_rouge\n",
      "The content parameter should not be empty!\n",
      "tour_du_cirque_de_mafate_en_6_jours\n"
     ]
    },
    {
     "name": "stderr",
     "output_type": "stream",
     "text": [
      " 95%|█████████▍| 1456/1540 [23:53<11:16,  8.05s/it]"
     ]
    },
    {
     "name": "stdout",
     "output_type": "stream",
     "text": [
      "The content parameter should not be empty!\n",
      "tour_du_mont_blanc\n",
      "The content parameter should not be empty!\n",
      "tour_du_mt_viso_en_5_jours\n"
     ]
    },
    {
     "name": "stderr",
     "output_type": "stream",
     "text": [
      " 96%|█████████▌| 1475/1540 [28:44<16:42, 15.42s/it]"
     ]
    },
    {
     "name": "stdout",
     "output_type": "stream",
     "text": [
      "The content parameter should not be empty!\n",
      "traversee_alpette_dent_de_crolles\n"
     ]
    },
    {
     "name": "stderr",
     "output_type": "stream",
     "text": [
      " 96%|█████████▋| 1484/1540 [30:35<08:17,  8.89s/it]"
     ]
    },
    {
     "name": "stdout",
     "output_type": "stream",
     "text": [
      "The content parameter should not be empty!\n",
      "traversee_du_plateau_du_vercors\n",
      "The content parameter should not be empty!\n",
      "traversee_du_vercors_en_5_jours_de_greno\n",
      "The content parameter should not be empty!\n",
      "traversee_du_vercors_par_le_sentier_balc\n"
     ]
    },
    {
     "name": "stderr",
     "output_type": "stream",
     "text": [
      " 97%|█████████▋| 1496/1540 [33:34<09:50, 13.43s/it]"
     ]
    },
    {
     "name": "stdout",
     "output_type": "stream",
     "text": [
      "The content parameter should not be empty!\n",
      "une_nuit_a_gsang\n"
     ]
    },
    {
     "name": "stderr",
     "output_type": "stream",
     "text": [
      " 97%|█████████▋| 1500/1540 [34:28<09:36, 14.41s/it]"
     ]
    },
    {
     "name": "stdout",
     "output_type": "stream",
     "text": [
      "The content parameter should not be empty!\n",
      "valfrejus_alpe_du_lauzet\n"
     ]
    },
    {
     "name": "stderr",
     "output_type": "stream",
     "text": [
      "100%|██████████| 1540/1540 [44:50<00:00,  1.75s/it]\n"
     ]
    }
   ],
   "source": [
    "for doc in tqdm(sorted(os.listdir(path))):\n",
    "    if doc.endswith('.txt'):\n",
    "\n",
    "        filename = doc[:-4]\n",
    "        if os.path.exists(os.path.join(output_path, filename + '.xml')):\n",
    "            continue\n",
    "\n",
    "        with open(os.path.join(path, doc), 'r') as f:\n",
    "            text = f.read()\n",
    "            try:\n",
    "                run_perdido2(text, output_path, filename, geoparser)\n",
    "            except:\n",
    "                print(filename)\n"
   ]
  },
  {
   "cell_type": "code",
   "execution_count": null,
   "metadata": {},
   "outputs": [],
   "source": []
  }
 ],
 "metadata": {
  "kernelspec": {
   "display_name": "Python 3",
   "language": "python",
   "name": "python3"
  },
  "language_info": {
   "codemirror_mode": {
    "name": "ipython",
    "version": 3
   },
   "file_extension": ".py",
   "mimetype": "text/x-python",
   "name": "python",
   "nbconvert_exporter": "python",
   "pygments_lexer": "ipython3",
   "version": "3.9.16"
  }
 },
 "nbformat": 4,
 "nbformat_minor": 2
}
