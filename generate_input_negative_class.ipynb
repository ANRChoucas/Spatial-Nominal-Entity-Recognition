{
 "cells": [
  {
   "attachments": {},
   "cell_type": "markdown",
   "metadata": {},
   "source": [
    "# Generate input for negative class"
   ]
  },
  {
   "cell_type": "code",
   "execution_count": 1,
   "metadata": {},
   "outputs": [
    {
     "name": "stderr",
     "output_type": "stream",
     "text": [
      "[nltk_data] Downloading package punkt to /Users/lmoncla/nltk_data...\n",
      "[nltk_data]   Package punkt is already up-to-date!\n"
     ]
    }
   ],
   "source": [
    "import os\n",
    "from tqdm import tqdm\n",
    "from lxml import etree\n",
    "import json\n",
    "import random \n",
    "import string\n",
    "from perdido.geoparser import Geoparser\n",
    "from utils_functions import load_lexicon, load_edda_dataframe, run_perdido, get_term_occurrences_from_ene, segment_sentences, get_lexicon_occurrences, get_ngrams_wt_term_outside_ene"
   ]
  },
  {
   "attachments": {},
   "cell_type": "markdown",
   "metadata": {},
   "source": [
    "# 1. Load lexicon\n",
    "\n",
    "The lexicon is created with the notebook `generate_input_positive_class.ipynb`. (TODO: make an independant script)\n"
   ]
  },
  {
   "cell_type": "code",
   "execution_count": 2,
   "metadata": {},
   "outputs": [],
   "source": [
    "lexicon_filename =  os.path.join('output', 'Traitement_Texte_pivot_lexicon.json')\n",
    "\n",
    "frequency_dict_geo_tt = load_lexicon(lexicon_filename)"
   ]
  },
  {
   "cell_type": "code",
   "execution_count": 3,
   "metadata": {},
   "outputs": [
    {
     "data": {
      "text/plain": [
       "190"
      ]
     },
     "execution_count": 3,
     "metadata": {},
     "output_type": "execute_result"
    }
   ],
   "source": [
    "len(frequency_dict_geo_tt)"
   ]
  },
  {
   "attachments": {},
   "cell_type": "markdown",
   "metadata": {},
   "source": [
    "# 2. Generate negative ngrams\n",
    "\n",
    "## 2.1 Load EDdA dataset\n",
    "\n",
    "Load the csv of EDdA dataset as a dataframe. Article from the Encyclopédie will be used to generate negative ngrams with words from the lexicon as pivot."
   ]
  },
  {
   "cell_type": "code",
   "execution_count": null,
   "metadata": {},
   "outputs": [],
   "source": [
    "edda_dataset_path = '/Users/lmoncla/Nextcloud-LIRIS/GEODE/GEODE - Partage consortium/Corpus/EDdA/EDdA_dataset_articles_superdomainBERT_230327.tsv'\n",
    "data = load_edda_dataframe(edda_dataset_path, 'Philosophie')\n",
    "data.head()"
   ]
  },
  {
   "cell_type": "code",
   "execution_count": null,
   "metadata": {},
   "outputs": [],
   "source": [
    "data.shape"
   ]
  },
  {
   "attachments": {},
   "cell_type": "markdown",
   "metadata": {},
   "source": [
    "## 2.1 Build batches of sentences"
   ]
  },
  {
   "cell_type": "code",
   "execution_count": null,
   "metadata": {},
   "outputs": [],
   "source": [
    "#sentences_per_article = data['content'].apply(segment_sentences)\n",
    "df = data.head()\n",
    "sentences_per_article = df['content'].apply(segment_sentences)\n",
    "\n",
    "all_sentences = [sentence for sentences in sentences_per_article for sentence in sentences]\n",
    "\n",
    "# Print the list of sentences\n",
    "for sentence in all_sentences:\n",
    "    print(sentence)\n",
    "\n",
    "# build batches of sentences\n",
    "batch_size = 50\n",
    "batches = [all_sentences[i:i + batch_size] for i in range(0, len(all_sentences), batch_size)]\n",
    "\n",
    "# turn each batch into a concatenate string\n",
    "batch_strings = [' '.join(batch) for batch in batches]"
   ]
  },
  {
   "cell_type": "code",
   "execution_count": null,
   "metadata": {},
   "outputs": [],
   "source": [
    "batch_strings"
   ]
  },
  {
   "attachments": {},
   "cell_type": "markdown",
   "metadata": {},
   "source": [
    "## 2.2 Run Perdido on the batches of sentences"
   ]
  },
  {
   "cell_type": "code",
   "execution_count": 4,
   "metadata": {},
   "outputs": [],
   "source": [
    "perdido_dir = './output/Philosophie'"
   ]
  },
  {
   "cell_type": "code",
   "execution_count": null,
   "metadata": {},
   "outputs": [],
   "source": [
    "geoparser = Geoparser(version='Standard', sources=['wiki_gaz'])\n",
    "\n",
    "for batch in tqdm(batch_strings):\n",
    "    # generate a random string of 10 characters\n",
    "    filename = ''.join(random.choices(string.ascii_uppercase + string.digits, k=10))\n",
    "    doc = run_perdido(batch, geoparser)\n",
    "    try:\n",
    "        doc.to_xml(os.path.join(perdido_dir, filename + '.xml'))\n",
    "    except:\n",
    "        print('Error', filename)\n"
   ]
  },
  {
   "attachments": {},
   "cell_type": "markdown",
   "metadata": {},
   "source": [
    "## 2.3 Get frequency of terms from the lexicon in the ENE \n",
    "\n",
    "\n",
    "* Regarde pour chaque terme du lexique (TT) sa fréquence dans les ENE des articles de Philosophie. "
   ]
  },
  {
   "cell_type": "code",
   "execution_count": 5,
   "metadata": {},
   "outputs": [
    {
     "name": "stderr",
     "output_type": "stream",
     "text": [
      "100%|██████████| 6/6 [00:00<00:00, 585.52it/s]\n"
     ]
    },
    {
     "data": {
      "text/plain": [
       "{'chemin': 0,\n",
       " 'lieu-dit': 0,\n",
       " 'chemins': 0,\n",
       " 'plaine': 0,\n",
       " 'sommet de la ligne': 0,\n",
       " 'sommet': 0,\n",
       " 'sentier': 0,\n",
       " 'champ': 0,\n",
       " 'col': 0,\n",
       " 'rocher': 0,\n",
       " 'sentiers': 0,\n",
       " 'route': 0,\n",
       " 'piste': 0,\n",
       " 'lac': 0,\n",
       " 'parking': 0,\n",
       " 'intersection': 0,\n",
       " 'auberge': 0,\n",
       " 'port de chaussures': 0,\n",
       " 'port': 0,\n",
       " 'massif': 0,\n",
       " 'vallée': 0,\n",
       " 'crête': 0,\n",
       " 'sommets': 0,\n",
       " 'grotte': 0,\n",
       " 'gare': 0,\n",
       " 'place': 0,\n",
       " 'ruisseau': 0,\n",
       " 'parking du lac': 0,\n",
       " 'rochers': 0,\n",
       " 'source du lac': 0,\n",
       " 'source': 0,\n",
       " 'parking de la route': 0,\n",
       " 'ferme': 0,\n",
       " 'refuge': 0,\n",
       " 'chalet': 0,\n",
       " 'auberge du lac': 0,\n",
       " 'ruines': 0,\n",
       " 'parking du château': 0,\n",
       " 'château': 0,\n",
       " 'barrage': 0,\n",
       " 'villages': 0,\n",
       " 'cascades': 0,\n",
       " 'châteaux': 0,\n",
       " 'abbaye': 0,\n",
       " 'rue': 4,\n",
       " 'rivière': 0,\n",
       " 'carrefour': 0,\n",
       " 'cour': 0,\n",
       " 'route des châteaux': 0,\n",
       " 'village': 0,\n",
       " 'parking au pied': 0,\n",
       " 'galeries': 0,\n",
       " \"parking de l' auberge\": 0,\n",
       " 'pistes': 0,\n",
       " 'versant': 0,\n",
       " 'passages': 0,\n",
       " 'sources': 0,\n",
       " 'moulin': 0,\n",
       " '': 0,\n",
       " 'étang': 0,\n",
       " \"canal d' amenée\": 0,\n",
       " 'canal': 0,\n",
       " 'mur': 0,\n",
       " 'refuges': 0,\n",
       " 'usines': 0,\n",
       " 'mer': 0,\n",
       " 'lieu': 1,\n",
       " 'couvent': 0,\n",
       " 'forêt': 0,\n",
       " 'auberges': 0,\n",
       " 'chapelle': 0,\n",
       " 'vallon': 0,\n",
       " 'parking de la salle': 0,\n",
       " 'passage': 1,\n",
       " 'villages de la route': 0,\n",
       " 'montagne': 0,\n",
       " 'rue du général': 0,\n",
       " 'bourg': 0,\n",
       " 'hôtel': 0,\n",
       " 'église': 0,\n",
       " 'maisons': 0,\n",
       " 'champs': 0,\n",
       " 'étangs': 0,\n",
       " \"cimetière de l' église\": 0,\n",
       " 'cimetière': 0,\n",
       " 'parking du col': 0,\n",
       " 'plan': 0,\n",
       " 'fontaine': 0,\n",
       " 'cascade': 0,\n",
       " 'maison': 0,\n",
       " 'porte': 0,\n",
       " 'rochers de grès': 0,\n",
       " 'rocher de la paix': 0,\n",
       " \"carrefour de l' abri\": 0,\n",
       " 'parking du cimetière': 0,\n",
       " \"château du trois châteaux d' eguisheim\": 0,\n",
       " 'pont': 0,\n",
       " 'lieu du début': 0,\n",
       " 'pont du chemin': 0,\n",
       " 'état': 0,\n",
       " 'pointe': 0,\n",
       " 'commune': 0,\n",
       " 'canton': 0,\n",
       " 'département': 0,\n",
       " 'ruines du château': 0,\n",
       " 'fossé de drainage': 0,\n",
       " 'fossé': 0,\n",
       " 'fossés': 0,\n",
       " \"sentier d' interprétation\": 0,\n",
       " 'ruines des châteaux': 0,\n",
       " 'ruine': 0,\n",
       " 'parc': 0,\n",
       " 'sentier des pèlerins': 0,\n",
       " 'mont': 0,\n",
       " 'région': 0,\n",
       " \"ruines de l' abbaye\": 0,\n",
       " 'jardin': 0,\n",
       " 'ville': 0,\n",
       " 'camping': 0,\n",
       " 'parking le long': 0,\n",
       " 'rues': 0,\n",
       " 'sommet de la tête': 0,\n",
       " 'musée du mémorial': 0,\n",
       " 'musée': 0,\n",
       " 'parking de la ferme': 0,\n",
       " 'barrage du lac': 0,\n",
       " 'crête du lac': 0,\n",
       " 'carrefour source lac': 0,\n",
       " 'musées': 0,\n",
       " 'village au fond': 0,\n",
       " 'ponts': 0,\n",
       " 'rives': 0,\n",
       " 'rives du lac': 0,\n",
       " 'torrent': 0,\n",
       " 'parking route de entrée': 0,\n",
       " 'parking route': 0,\n",
       " 'villages du début': 0,\n",
       " \"parking de l' aire\": 0,\n",
       " 'rue des rabbins': 0,\n",
       " 'carrefour de chemins': 0,\n",
       " 'chemin du roi': 0,\n",
       " 'pont de canal': 0,\n",
       " 'chemin des châteaux': 0,\n",
       " 'intersection chemin des châteaux': 0,\n",
       " 'intersection chemin': 0,\n",
       " 'versant côté vallée': 0,\n",
       " 'rochers de': 0,\n",
       " 'parking place': 0,\n",
       " 'carrefour du sentier': 0,\n",
       " 'jardin des fées de le sentier des sculptures situ': 0,\n",
       " 'jardin des fées de le sentier des sculptures': 0,\n",
       " 'jardin des fées': 0,\n",
       " 'intersection rue': 0,\n",
       " 'parking rue': 0,\n",
       " 'usine': 0,\n",
       " \"usine d' eau\": 0,\n",
       " 'maison le carrefour du sentier': 0,\n",
       " 'parc du relais': 0,\n",
       " 'promontoire': 0,\n",
       " \"parking de l' étang\": 0,\n",
       " 'villages de la vallée': 0,\n",
       " 'versant du champ': 0,\n",
       " 'cols': 0,\n",
       " 'étangs de pêche': 0,\n",
       " 'forêts': 0,\n",
       " 'lieux': 0,\n",
       " 'forêt le sentier': 0,\n",
       " 'crête du champ': 0,\n",
       " 'parking de la cour': 0,\n",
       " 'domaine': 0,\n",
       " 'places': 0,\n",
       " 'embranchement': 0,\n",
       " 'quai': 0,\n",
       " 'pont du barrage': 0,\n",
       " \"sentier de l' ex-chemin\": 0,\n",
       " 'sentier chemin': 0,\n",
       " 'parking du terrain': 0,\n",
       " 'ruines de abbaye': 0,\n",
       " 'chemin de saint-jacques': 0,\n",
       " 'intersection de la rue': 0,\n",
       " 'pont de chemin': 0,\n",
       " 'carrefour rue': 0,\n",
       " 'étang de pêche': 0,\n",
       " 'passage du deuxième': 0,\n",
       " 'impasse': 0,\n",
       " 'avenue': 0,\n",
       " 'parc du domaine': 0,\n",
       " 'rond-point': 0,\n",
       " 'parking de la porte': 0,\n",
       " 'chemin de croix': 0}"
      ]
     },
     "execution_count": 5,
     "metadata": {},
     "output_type": "execute_result"
    }
   ],
   "source": [
    "terms = []\n",
    "for doc in tqdm(sorted(os.listdir(perdido_dir))):\n",
    "    terms.extend(get_term_occurrences_from_ene(os.path.join(perdido_dir,doc)))\n",
    "\n",
    "get_lexicon_occurrences(terms, frequency_dict_geo_tt.keys())"
   ]
  },
  {
   "attachments": {},
   "cell_type": "markdown",
   "metadata": {},
   "source": [
    "## 2.4 Build ngrams\n",
    "\n",
    "\n",
    "* Regarde pour chaque terme du lexique (TT) sa fréquence en dehors des ENE des articles de Philosophie. "
   ]
  },
  {
   "cell_type": "code",
   "execution_count": null,
   "metadata": {},
   "outputs": [],
   "source": []
  },
  {
   "attachments": {},
   "cell_type": "markdown",
   "metadata": {},
   "source": [
    "* construire les grams, fonction : get_ngrams_wt_term_outside_ene()"
   ]
  },
  {
   "cell_type": "code",
   "execution_count": 6,
   "metadata": {},
   "outputs": [
    {
     "name": "stderr",
     "output_type": "stream",
     "text": [
      "100%|██████████| 6/6 [00:00<00:00, 609.49it/s]"
     ]
    },
    {
     "name": "stdout",
     "output_type": "stream",
     "text": [
      "Chez BRIASSON , [ rue ] Saint Jacques , \n",
      "l' aîné , [ rue ] Saint Jacques , \n",
      "du Roy , [ rue ] de la Harpe \n",
      ". DURAND , [ rue ] Saint Jacques , \n",
      "surtout par le [ passage ] d' Eusebe , \n",
      "& bref dans [ place ] . Il est \n",
      "long , au [ lieu ] de l' s \n",
      ": ainsi au [ lieu ] d' écrire mastin \n",
      "Suivre à la [ piste ] . Faire le \n",
      "I. Dans son [ état ] simple : 1° \n",
      "sorte qu' au [ lieu ] de dire à \n",
      "au pluriel au [ lieu ] de dire à \n",
      "Puiser à la [ source ] . Prendre garde \n",
      "Adverbe ) au [ lieu ] que la préposition \n",
      "Grec ont donné [ lieu ] à ce vers \n"
     ]
    },
    {
     "name": "stderr",
     "output_type": "stream",
     "text": [
      "\n"
     ]
    }
   ],
   "source": [
    "ngrams = []\n",
    "for doc in tqdm(sorted(os.listdir(perdido_dir))):\n",
    "    ngrams.extend(get_ngrams_wt_term_outside_ene(os.path.join(perdido_dir,doc), frequency_dict_geo_tt, 1))"
   ]
  },
  {
   "cell_type": "code",
   "execution_count": 9,
   "metadata": {},
   "outputs": [
    {
     "data": {
      "text/plain": [
       "['rue',\n",
       " 'rue',\n",
       " 'rue',\n",
       " 'rue',\n",
       " 'passage',\n",
       " 'place',\n",
       " 'lieu',\n",
       " 'lieu',\n",
       " 'piste',\n",
       " 'état',\n",
       " 'lieu',\n",
       " 'lieu',\n",
       " 'source',\n",
       " 'lieu',\n",
       " 'lieu']"
      ]
     },
     "execution_count": 9,
     "metadata": {},
     "output_type": "execute_result"
    }
   ],
   "source": [
    "pivots = [ngram['pivot'] for ngram in ngrams]\n",
    "pivots"
   ]
  },
  {
   "cell_type": "code",
   "execution_count": 10,
   "metadata": {},
   "outputs": [
    {
     "data": {
      "text/plain": [
       "{'chemin': 0,\n",
       " 'lieu-dit': 0,\n",
       " 'chemins': 0,\n",
       " 'plaine': 0,\n",
       " 'sommet de la ligne': 0,\n",
       " 'sommet': 0,\n",
       " 'sentier': 0,\n",
       " 'champ': 0,\n",
       " 'col': 0,\n",
       " 'rocher': 0,\n",
       " 'sentiers': 0,\n",
       " 'route': 0,\n",
       " 'piste': 1,\n",
       " 'lac': 0,\n",
       " 'parking': 0,\n",
       " 'intersection': 0,\n",
       " 'auberge': 0,\n",
       " 'port de chaussures': 0,\n",
       " 'port': 0,\n",
       " 'massif': 0,\n",
       " 'vallée': 0,\n",
       " 'crête': 0,\n",
       " 'sommets': 0,\n",
       " 'grotte': 0,\n",
       " 'gare': 0,\n",
       " 'place': 1,\n",
       " 'ruisseau': 0,\n",
       " 'parking du lac': 0,\n",
       " 'rochers': 0,\n",
       " 'source du lac': 0,\n",
       " 'source': 1,\n",
       " 'parking de la route': 0,\n",
       " 'ferme': 0,\n",
       " 'refuge': 0,\n",
       " 'chalet': 0,\n",
       " 'auberge du lac': 0,\n",
       " 'ruines': 0,\n",
       " 'parking du château': 0,\n",
       " 'château': 0,\n",
       " 'barrage': 0,\n",
       " 'villages': 0,\n",
       " 'cascades': 0,\n",
       " 'châteaux': 0,\n",
       " 'abbaye': 0,\n",
       " 'rue': 4,\n",
       " 'rivière': 0,\n",
       " 'carrefour': 0,\n",
       " 'cour': 0,\n",
       " 'route des châteaux': 0,\n",
       " 'village': 0,\n",
       " 'parking au pied': 0,\n",
       " 'galeries': 0,\n",
       " \"parking de l' auberge\": 0,\n",
       " 'pistes': 0,\n",
       " 'versant': 0,\n",
       " 'passages': 0,\n",
       " 'sources': 0,\n",
       " 'moulin': 0,\n",
       " '': 0,\n",
       " 'étang': 0,\n",
       " \"canal d' amenée\": 0,\n",
       " 'canal': 0,\n",
       " 'mur': 0,\n",
       " 'refuges': 0,\n",
       " 'usines': 0,\n",
       " 'mer': 0,\n",
       " 'lieu': 6,\n",
       " 'couvent': 0,\n",
       " 'forêt': 0,\n",
       " 'auberges': 0,\n",
       " 'chapelle': 0,\n",
       " 'vallon': 0,\n",
       " 'parking de la salle': 0,\n",
       " 'passage': 1,\n",
       " 'villages de la route': 0,\n",
       " 'montagne': 0,\n",
       " 'rue du général': 0,\n",
       " 'bourg': 0,\n",
       " 'hôtel': 0,\n",
       " 'église': 0,\n",
       " 'maisons': 0,\n",
       " 'champs': 0,\n",
       " 'étangs': 0,\n",
       " \"cimetière de l' église\": 0,\n",
       " 'cimetière': 0,\n",
       " 'parking du col': 0,\n",
       " 'plan': 0,\n",
       " 'fontaine': 0,\n",
       " 'cascade': 0,\n",
       " 'maison': 0,\n",
       " 'porte': 0,\n",
       " 'rochers de grès': 0,\n",
       " 'rocher de la paix': 0,\n",
       " \"carrefour de l' abri\": 0,\n",
       " 'parking du cimetière': 0,\n",
       " \"château du trois châteaux d' eguisheim\": 0,\n",
       " 'pont': 0,\n",
       " 'lieu du début': 0,\n",
       " 'pont du chemin': 0,\n",
       " 'état': 1,\n",
       " 'pointe': 0,\n",
       " 'commune': 0,\n",
       " 'canton': 0,\n",
       " 'département': 0,\n",
       " 'ruines du château': 0,\n",
       " 'fossé de drainage': 0,\n",
       " 'fossé': 0,\n",
       " 'fossés': 0,\n",
       " \"sentier d' interprétation\": 0,\n",
       " 'ruines des châteaux': 0,\n",
       " 'ruine': 0,\n",
       " 'parc': 0,\n",
       " 'sentier des pèlerins': 0,\n",
       " 'mont': 0,\n",
       " 'région': 0,\n",
       " \"ruines de l' abbaye\": 0,\n",
       " 'jardin': 0,\n",
       " 'ville': 0,\n",
       " 'camping': 0,\n",
       " 'parking le long': 0,\n",
       " 'rues': 0,\n",
       " 'sommet de la tête': 0,\n",
       " 'musée du mémorial': 0,\n",
       " 'musée': 0,\n",
       " 'parking de la ferme': 0,\n",
       " 'barrage du lac': 0,\n",
       " 'crête du lac': 0,\n",
       " 'carrefour source lac': 0,\n",
       " 'musées': 0,\n",
       " 'village au fond': 0,\n",
       " 'ponts': 0,\n",
       " 'rives': 0,\n",
       " 'rives du lac': 0,\n",
       " 'torrent': 0,\n",
       " 'parking route de entrée': 0,\n",
       " 'parking route': 0,\n",
       " 'villages du début': 0,\n",
       " \"parking de l' aire\": 0,\n",
       " 'rue des rabbins': 0,\n",
       " 'carrefour de chemins': 0,\n",
       " 'chemin du roi': 0,\n",
       " 'pont de canal': 0,\n",
       " 'chemin des châteaux': 0,\n",
       " 'intersection chemin des châteaux': 0,\n",
       " 'intersection chemin': 0,\n",
       " 'versant côté vallée': 0,\n",
       " 'rochers de': 0,\n",
       " 'parking place': 0,\n",
       " 'carrefour du sentier': 0,\n",
       " 'jardin des fées de le sentier des sculptures situ': 0,\n",
       " 'jardin des fées de le sentier des sculptures': 0,\n",
       " 'jardin des fées': 0,\n",
       " 'intersection rue': 0,\n",
       " 'parking rue': 0,\n",
       " 'usine': 0,\n",
       " \"usine d' eau\": 0,\n",
       " 'maison le carrefour du sentier': 0,\n",
       " 'parc du relais': 0,\n",
       " 'promontoire': 0,\n",
       " \"parking de l' étang\": 0,\n",
       " 'villages de la vallée': 0,\n",
       " 'versant du champ': 0,\n",
       " 'cols': 0,\n",
       " 'étangs de pêche': 0,\n",
       " 'forêts': 0,\n",
       " 'lieux': 0,\n",
       " 'forêt le sentier': 0,\n",
       " 'crête du champ': 0,\n",
       " 'parking de la cour': 0,\n",
       " 'domaine': 0,\n",
       " 'places': 0,\n",
       " 'embranchement': 0,\n",
       " 'quai': 0,\n",
       " 'pont du barrage': 0,\n",
       " \"sentier de l' ex-chemin\": 0,\n",
       " 'sentier chemin': 0,\n",
       " 'parking du terrain': 0,\n",
       " 'ruines de abbaye': 0,\n",
       " 'chemin de saint-jacques': 0,\n",
       " 'intersection de la rue': 0,\n",
       " 'pont de chemin': 0,\n",
       " 'carrefour rue': 0,\n",
       " 'étang de pêche': 0,\n",
       " 'passage du deuxième': 0,\n",
       " 'impasse': 0,\n",
       " 'avenue': 0,\n",
       " 'parc du domaine': 0,\n",
       " 'rond-point': 0,\n",
       " 'parking de la porte': 0,\n",
       " 'chemin de croix': 0}"
      ]
     },
     "execution_count": 10,
     "metadata": {},
     "output_type": "execute_result"
    }
   ],
   "source": [
    "get_lexicon_occurrences(pivots, frequency_dict_geo_tt.keys())"
   ]
  },
  {
   "cell_type": "code",
   "execution_count": null,
   "metadata": {},
   "outputs": [],
   "source": []
  }
 ],
 "metadata": {
  "kernelspec": {
   "display_name": "Python 3",
   "language": "python",
   "name": "python3"
  },
  "language_info": {
   "codemirror_mode": {
    "name": "ipython",
    "version": 3
   },
   "file_extension": ".py",
   "mimetype": "text/x-python",
   "name": "python",
   "nbconvert_exporter": "python",
   "pygments_lexer": "ipython3",
   "version": "3.9.16"
  }
 },
 "nbformat": 4,
 "nbformat_minor": 2
}
