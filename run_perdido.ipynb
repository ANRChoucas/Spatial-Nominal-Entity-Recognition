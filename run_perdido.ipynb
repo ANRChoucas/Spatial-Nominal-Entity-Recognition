{
 "cells": [
  {
   "attachments": {},
   "cell_type": "markdown",
   "metadata": {},
   "source": [
    "# Run Perdido"
   ]
  },
  {
   "cell_type": "code",
   "execution_count": null,
   "metadata": {},
   "outputs": [],
   "source": [
    "import os\n",
    "from perdido.geoparser import Geoparser\n",
    "from tqdm import tqdm\n",
    "from lxml import etree\n",
    "\n",
    "import warnings\n",
    "warnings.filterwarnings('ignore')\n",
    "\n",
    "from utils_functions import run_perdido"
   ]
  },
  {
   "cell_type": "code",
   "execution_count": null,
   "metadata": {},
   "outputs": [],
   "source": [
    "geoparser = Geoparser(version='Standard', sources=['wiki_gaz'])"
   ]
  },
  {
   "attachments": {},
   "cell_type": "markdown",
   "metadata": {},
   "source": [
    "## Corpus Traitement_Texte"
   ]
  },
  {
   "cell_type": "code",
   "execution_count": null,
   "metadata": {},
   "outputs": [],
   "source": [
    "path ='/Users/lmoncla/Documents/Data/Corpus/Choucas'\n",
    "output_path = os.path.join(path ,'Perdido')"
   ]
  },
  {
   "cell_type": "code",
   "execution_count": null,
   "metadata": {},
   "outputs": [],
   "source": [
    "for doc in tqdm(sorted(os.listdir(path))):\n",
    "    try:\n",
    "        num = int(doc.split('_')[-1])\n",
    "        #print(num)\n",
    "        filename = 'FichierNettoye_' + str(num)\n",
    "        if os.path.exists(os.path.join(output_path, filename, filename + '.xml')):\n",
    "            continue\n",
    "\n",
    "        with open(os.path.join(path, doc, filename), 'r') as f:\n",
    "            text = f.read()\n",
    "\n",
    "            doc = run_perdido(text, output_path, filename, geoparser)\n",
    "            if doc is not None:\n",
    "                try:\n",
    "                    os.mkdir(os.path.join(output_path, filename))\n",
    "                except OSError:\n",
    "                    pass\n",
    "                \n",
    "                doc.to_xml(os.path.join(output_path, filename + '.xml'))\n",
    "\n",
    "                '''\n",
    "                iob = 'n\\tform\\tlemma\\tpos\\ttype\\n'\n",
    "                for token in doc:\n",
    "                        iob += token.tsv_format() + '\\n'\n",
    "\n",
    "                with open(os.path.join(output_path, filename, filename + '.tsv'), 'w') as f:\n",
    "                    f.write(iob)\n",
    "\n",
    "                doc.to_html(os.path.join(output_path, filename, filename + '_ent.html'), 'ent')\n",
    "                doc.to_html(os.path.join(output_path, filename, filename + '_span.html'), 'span')\n",
    "                '''\n",
    "    except ValueError:\n",
    "        pass"
   ]
  },
  {
   "attachments": {},
   "cell_type": "markdown",
   "metadata": {},
   "source": [
    "## Corpus Visorando"
   ]
  },
  {
   "cell_type": "code",
   "execution_count": null,
   "metadata": {},
   "outputs": [],
   "source": [
    "path = '/Users/lmoncla/Documents/Data/Corpus/Visorando/txt'\n",
    "output_path = '/Users/lmoncla/Documents/Data/Corpus/Visorando/tmp'"
   ]
  },
  {
   "cell_type": "code",
   "execution_count": null,
   "metadata": {},
   "outputs": [],
   "source": [
    "for doc in tqdm(sorted(os.listdir(path))):\n",
    "    if doc.endswith('.txt'):\n",
    "\n",
    "        filename = doc[:-4]\n",
    "        if os.path.exists(os.path.join(output_path, filename + '.xml')):\n",
    "            continue\n",
    "\n",
    "        with open(os.path.join(path, doc), 'r') as f:\n",
    "            text = f.read()\n",
    "            try:\n",
    "                doc = run_perdido(text, output_path, filename, geoparser)\n",
    "                if doc is not None:\n",
    "                    doc.to_xml(os.path.join(output_path, filename + '.xml'))\n",
    "            except:\n",
    "                print(filename)\n"
   ]
  },
  {
   "cell_type": "code",
   "execution_count": null,
   "metadata": {},
   "outputs": [],
   "source": []
  }
 ],
 "metadata": {
  "kernelspec": {
   "display_name": "Python 3",
   "language": "python",
   "name": "python3"
  },
  "language_info": {
   "codemirror_mode": {
    "name": "ipython",
    "version": 3
   },
   "file_extension": ".py",
   "mimetype": "text/x-python",
   "name": "python",
   "nbconvert_exporter": "python",
   "pygments_lexer": "ipython3",
   "version": "3.9.16"
  }
 },
 "nbformat": 4,
 "nbformat_minor": 2
}
